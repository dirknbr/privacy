{
  "nbformat": 4,
  "nbformat_minor": 0,
  "metadata": {
    "colab": {
      "name": "privacy, noise, debias",
      "provenance": [],
      "collapsed_sections": [],
      "authorship_tag": "ABX9TyMdEEO4rPZNeDm9TZvBBPbr",
      "include_colab_link": true
    },
    "kernelspec": {
      "name": "python3",
      "display_name": "Python 3"
    },
    "language_info": {
      "name": "python"
    }
  },
  "cells": [
    {
      "cell_type": "markdown",
      "metadata": {
        "id": "view-in-github",
        "colab_type": "text"
      },
      "source": [
        "<a href=\"https://colab.research.google.com/github/dirknbr/privacy/blob/main/privacy_noise_debias.ipynb\" target=\"_parent\"><img src=\"https://colab.research.google.com/assets/colab-badge.svg\" alt=\"Open In Colab\"/></a>"
      ]
    },
    {
      "cell_type": "markdown",
      "metadata": {
        "id": "3ASUMuuM4ogH"
      },
      "source": [
        "# Privacy: retrieving the unbiased effect after adding privacy noise to data\n",
        "\n",
        "Disclaimer: This is purely personal research and not endorsed by my employer.\n",
        "\n",
        "Imagine you want to make some data more private by adding some noise to each data point. You then want to estimate the effect of x on y in a simple regression model. But the noise (like measurement error) creates a bias in your linear effect, it shrinks it to zero. \n",
        "\n",
        "However, if we know some aggregate stats about X and the noise we can unbias the effect again. This means we have protected the data but also can still infer the \"true\" effect.\n",
        "\n",
        "The unbiasing step is based on this [1992 paper](https://epiresearch.org/wp-content/uploads/2014/07/AJE1992Rosner.pdf)\n",
        "\n",
        "\n",
        "\n"
      ]
    },
    {
      "cell_type": "code",
      "metadata": {
        "colab": {
          "base_uri": "https://localhost:8080/"
        },
        "id": "Z69gGgu04nzB",
        "outputId": "b61c7cd8-4d8c-44a4-a7d0-30252aeb52cb"
      },
      "source": [
        "import numpy as np\n",
        "from sklearn import linear_model\n",
        "# https://www.statsmodels.org/stable/gettingstarted.html\n",
        "import statsmodels.api as sm\n"
      ],
      "execution_count": 1,
      "outputs": [
        {
          "output_type": "stream",
          "text": [
            "/usr/local/lib/python3.7/dist-packages/statsmodels/tools/_testing.py:19: FutureWarning: pandas.util.testing is deprecated. Use the functions in the public API at pandas.testing instead.\n",
            "  import pandas.util.testing as tm\n"
          ],
          "name": "stderr"
        }
      ]
    },
    {
      "cell_type": "code",
      "metadata": {
        "id": "ZVKJpj7F6SF8"
      },
      "source": [
        "# the true simulated data, true beta is [0, -1]\n",
        "np.random.seed(33)\n",
        "N = 800\n",
        "X = np.random.normal(10, 1.1, size=(N, 2))\n",
        "y = 5 - X[:, 1] + np.random.normal(size=N)\n"
      ],
      "execution_count": 2,
      "outputs": []
    },
    {
      "cell_type": "code",
      "metadata": {
        "id": "o131YnfI6bA1"
      },
      "source": [
        "# some functions we need, we use laplace noise, we also return some covariance\n",
        "\n",
        "def add_noise_matrix(X, sd=.3):\n",
        "  noise = np.random.laplace(0, sd, size=X.shape)\n",
        "  return X + noise, np.cov(X.T), np.cov(noise.T)\n",
        "\n",
        "def add_intc(X):\n",
        "  n, k = X.shape\n",
        "  X2 = np.ones((n, k + 1))\n",
        "  X2[:, 1:] = X\n",
        "  return X2\n"
      ],
      "execution_count": 3,
      "outputs": []
    },
    {
      "cell_type": "code",
      "metadata": {
        "colab": {
          "base_uri": "https://localhost:8080/"
        },
        "id": "4a2i3zdf60fS",
        "outputId": "e0e94dc0-1fd4-4e4b-9d43-900dd76786c0"
      },
      "source": [
        "Xno, cov_X, cov_noise = add_noise_matrix(X)\n",
        "print(cov_noise)\n"
      ],
      "execution_count": 4,
      "outputs": [
        {
          "output_type": "stream",
          "text": [
            "[[ 0.17409356 -0.01073539]\n",
            " [-0.01073539  0.18182556]]\n"
          ],
          "name": "stdout"
        }
      ]
    },
    {
      "cell_type": "code",
      "metadata": {
        "colab": {
          "base_uri": "https://localhost:8080/"
        },
        "id": "QuQIbtEI62p5",
        "outputId": "0e46c483-86c9-444a-ffe6-260156a82339"
      },
      "source": [
        "# some stats, the mean is unchanged\n",
        "print('mean')\n",
        "print(X.mean(axis=0))\n",
        "print(Xno.mean(axis=0))\n",
        "\n",
        "print('std')\n",
        "print(X.std(axis=0))\n",
        "print(Xno.std(axis=0))\n"
      ],
      "execution_count": 5,
      "outputs": [
        {
          "output_type": "stream",
          "text": [
            "mean\n",
            "[10.03795965  9.98199436]\n",
            "[10.04930025  9.98839855]\n",
            "std\n",
            "[1.10880734 1.05440384]\n",
            "[1.17761255 1.14254982]\n"
          ],
          "name": "stdout"
        }
      ]
    },
    {
      "cell_type": "code",
      "metadata": {
        "colab": {
          "base_uri": "https://localhost:8080/"
        },
        "id": "6BTUQAcb7QEj",
        "outputId": "599c3c32-9b29-4173-b014-99446e23df14"
      },
      "source": [
        "# we run the original data and the biased (private) data\n",
        "\n",
        "m1 = sm.OLS(y, add_intc(X))\n",
        "m3 = sm.OLS(y, add_intc(Xno))\n",
        "\n",
        "res1 = m1.fit()\n",
        "res3 = m3.fit()\n",
        "\n",
        "print(res1.summary())\n",
        "print(res3.summary())\n",
        "\n",
        "# we see that the Xno model has some bias in beta\n",
        "# also take some note of the standard errors"
      ],
      "execution_count": 6,
      "outputs": [
        {
          "output_type": "stream",
          "text": [
            "                            OLS Regression Results                            \n",
            "==============================================================================\n",
            "Dep. Variable:                      y   R-squared:                       0.536\n",
            "Model:                            OLS   Adj. R-squared:                  0.535\n",
            "Method:                 Least Squares   F-statistic:                     459.8\n",
            "Date:                Mon, 28 Jun 2021   Prob (F-statistic):          1.67e-133\n",
            "Time:                        15:33:50   Log-Likelihood:                -1126.7\n",
            "No. Observations:                 800   AIC:                             2259.\n",
            "Df Residuals:                     797   BIC:                             2274.\n",
            "Df Model:                           2                                         \n",
            "Covariance Type:            nonrobust                                         \n",
            "==============================================================================\n",
            "                 coef    std err          t      P>|t|      [0.025      0.975]\n",
            "------------------------------------------------------------------------------\n",
            "const          5.1791      0.459     11.287      0.000       4.278       6.080\n",
            "x1            -0.0087      0.032     -0.276      0.783      -0.071       0.053\n",
            "x2            -1.0079      0.033    -30.320      0.000      -1.073      -0.943\n",
            "==============================================================================\n",
            "Omnibus:                        2.238   Durbin-Watson:                   2.046\n",
            "Prob(Omnibus):                  0.327   Jarque-Bera (JB):                2.308\n",
            "Skew:                          -0.123   Prob(JB):                        0.315\n",
            "Kurtosis:                       2.908   Cond. No.                         187.\n",
            "==============================================================================\n",
            "\n",
            "Warnings:\n",
            "[1] Standard Errors assume that the covariance matrix of the errors is correctly specified.\n",
            "                            OLS Regression Results                            \n",
            "==============================================================================\n",
            "Dep. Variable:                      y   R-squared:                       0.448\n",
            "Model:                            OLS   Adj. R-squared:                  0.446\n",
            "Method:                 Least Squares   F-statistic:                     322.9\n",
            "Date:                Mon, 28 Jun 2021   Prob (F-statistic):          1.92e-103\n",
            "Time:                        15:33:50   Log-Likelihood:                -1196.2\n",
            "No. Observations:                 800   AIC:                             2398.\n",
            "Df Residuals:                     797   BIC:                             2412.\n",
            "Df Model:                           2                                         \n",
            "Covariance Type:            nonrobust                                         \n",
            "==============================================================================\n",
            "                 coef    std err          t      P>|t|      [0.025      0.975]\n",
            "------------------------------------------------------------------------------\n",
            "const          3.6237      0.471      7.690      0.000       2.699       4.549\n",
            "x1            -0.0099      0.032     -0.304      0.761      -0.074       0.054\n",
            "x2            -0.8504      0.033    -25.413      0.000      -0.916      -0.785\n",
            "==============================================================================\n",
            "Omnibus:                        0.829   Durbin-Watson:                   2.052\n",
            "Prob(Omnibus):                  0.661   Jarque-Bera (JB):                0.831\n",
            "Skew:                          -0.078   Prob(JB):                        0.660\n",
            "Kurtosis:                       2.979   Cond. No.                         176.\n",
            "==============================================================================\n",
            "\n",
            "Warnings:\n",
            "[1] Standard Errors assume that the covariance matrix of the errors is correctly specified.\n"
          ],
          "name": "stdout"
        }
      ]
    },
    {
      "cell_type": "code",
      "metadata": {
        "colab": {
          "base_uri": "https://localhost:8080/"
        },
        "id": "1XRFmA047n6I",
        "outputId": "ae934540-7408-4384-e246-60ad3bbb3577"
      },
      "source": [
        "# we use 200 bootstraps to get an interval around our new estimate\n",
        "\n",
        "S_X = cov_X\n",
        "S = cov_noise\n",
        "\n",
        "# b_hat = res3.params[1:]\n",
        "\n",
        "# bootstrappping\n",
        "b_samples = np.zeros((200, 2))\n",
        "\n",
        "for i in range(200):\n",
        "  sample = np.random.choice(N, N, replace=True)\n",
        "  Xno_sel = Xno[sample, :]\n",
        "  y_sel = y[sample]\n",
        "  m3 = sm.OLS(y_sel, add_intc(Xno_sel))\n",
        "  res3 = m3.fit()\n",
        "  b_hat = res3.params[1:]\n",
        "\n",
        "  S_Z = np.cov(Xno_sel.T)\n",
        "\n",
        "  b_fixed = b_hat.dot(np.identity(2) + S.dot(np.linalg.inv(S_X)))\n",
        "  # b_fixed2 = b_hat.dot(np.linalg.inv(S_X.dot(np.linalg.inv(S_Z))))\n",
        "  b_samples[i, :] = b_fixed\n",
        "\n",
        "print('bootstrapped')\n",
        "print(b_samples.mean(axis=0))\n",
        "print(b_samples.std(axis=0))\n"
      ],
      "execution_count": 7,
      "outputs": [
        {
          "output_type": "stream",
          "text": [
            "bootstrapped\n",
            "[-0.00607441 -0.9910633 ]\n",
            "[0.03471681 0.03663509]\n"
          ],
          "name": "stdout"
        }
      ]
    },
    {
      "cell_type": "markdown",
      "metadata": {
        "id": "QnIIOsCY7sYR"
      },
      "source": [
        "The unbiased estimate of beta is\n",
        "\n",
        "$$\\beta = \\hat{\\beta}(I + \\Sigma\\Sigma_X^{-1})$$\n",
        "\n",
        "where $\\hat{\\beta}$ is the biased estimate, $\\Sigma$ is the covariance of the noise, $\\Sigma_X$ is the covariance of X (before adding noise).\n",
        "\n",
        "So if we have a biased X but we also know the original covariance, we can fix the estimates. "
      ]
    }
  ]
}