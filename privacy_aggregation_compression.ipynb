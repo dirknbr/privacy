{
  "nbformat": 4,
  "nbformat_minor": 0,
  "metadata": {
    "colab": {
      "name": "privacy aggregation compression",
      "provenance": [],
      "collapsed_sections": [],
      "authorship_tag": "ABX9TyOzxJ9rkOKOrSrGtEe1L7Em",
      "include_colab_link": true
    },
    "kernelspec": {
      "name": "python3",
      "display_name": "Python 3"
    },
    "language_info": {
      "name": "python"
    }
  },
  "cells": [
    {
      "cell_type": "markdown",
      "metadata": {
        "id": "view-in-github",
        "colab_type": "text"
      },
      "source": [
        "<a href=\"https://colab.research.google.com/github/dirknbr/privacy/blob/main/privacy_aggregation_compression.ipynb\" target=\"_parent\"><img src=\"https://colab.research.google.com/assets/colab-badge.svg\" alt=\"Open In Colab\"/></a>"
      ]
    },
    {
      "cell_type": "markdown",
      "metadata": {
        "id": "-QwfQipOXoC6"
      },
      "source": [
        "# Privacy: aggregation, compression and unpacking\n",
        "\n",
        "Imagine you have some N data points. For privacy reasons you need to aggregate the data at some group level. If we record some stats (mean, std, correlation matrix) about the distributions can we reconstruct the full data, and then retrieve our true effects between the variables.\n",
        "\n",
        "Here we simulate 200 rows with 2 covariates and 5 groups.\n",
        "\n",
        "Deaggregation assumes a multivariate normal distribution."
      ]
    },
    {
      "cell_type": "code",
      "metadata": {
        "colab": {
          "base_uri": "https://localhost:8080/"
        },
        "id": "vTixxg7dXkHw",
        "outputId": "8e83727f-0278-4ecb-e59d-0bce8d506462"
      },
      "source": [
        "\n",
        "import numpy as np\n",
        "# from scipy.special import expit\n",
        "import pandas as pd\n",
        "from sklearn import linear_model\n",
        "\n",
        "def corr2cov(C, S):\n",
        "  return np.diag(S).dot(C).dot(np.diag(S))\n",
        "\n",
        "def mape(y, pred):\n",
        "  return np.mean(abs(y - pred) / y)\n",
        "\n",
        "# conversion test\n",
        "C = np.array([[1, 0.25, .9], [.25, 1, .5], [.9, .5, 1]])\n",
        "S = np.array([1, 4, 9])\n",
        "print(corr2cov(C, S))\n",
        "\n"
      ],
      "execution_count": 7,
      "outputs": [
        {
          "output_type": "stream",
          "text": [
            "[[ 1.   1.   8.1]\n",
            " [ 1.  16.  18. ]\n",
            " [ 8.1 18.  81. ]]\n"
          ],
          "name": "stdout"
        }
      ]
    },
    {
      "cell_type": "code",
      "metadata": {
        "colab": {
          "base_uri": "https://localhost:8080/"
        },
        "id": "M-iFdBocY8n7",
        "outputId": "efa09ec8-b39b-4a12-e442-8a38e00bc3b2"
      },
      "source": [
        "# simulate data\n",
        "np.random.seed(22)\n",
        "N = 200\n",
        "G = 5 # groups\n",
        "x1 = np.random.normal(10, 1.1, size=N)\n",
        "x2 = np.random.normal(12, 1.5, size=N)\n",
        "# we have unequal groups\n",
        "prob = np.random.uniform(size=G)\n",
        "prob = prob / sum(prob)\n",
        "gr = np.random.choice(G, size=N, p=prob)\n",
        "# true beta is [.5, -.5]\n",
        "y = 10 + (gr == 2) + .5 * x1 - .5 * x2 + np.random.normal(0, .5, size=N)\n",
        "df = pd.DataFrame({'y': y, 'x1': x1, 'x2': x2, 'gr': gr})\n",
        "print(df.describe())\n",
        "print(df.corr())"
      ],
      "execution_count": 8,
      "outputs": [
        {
          "output_type": "stream",
          "text": [
            "                y          x1          x2          gr\n",
            "count  200.000000  200.000000  200.000000  200.000000\n",
            "mean     9.189527   10.122275   12.122534    2.025000\n",
            "std      1.194722    1.123926    1.623312    1.599113\n",
            "min      5.722211    6.953514    8.044215    0.000000\n",
            "25%      8.345902    9.381114   11.056564    0.000000\n",
            "50%      9.142382   10.086897   12.116145    2.000000\n",
            "75%     10.072746   10.820536   13.225434    4.000000\n",
            "max     12.267408   13.382937   16.271999    4.000000\n",
            "           y        x1        x2        gr\n",
            "y   1.000000  0.495406 -0.693098  0.002618\n",
            "x1  0.495406  1.000000 -0.050348 -0.081966\n",
            "x2 -0.693098 -0.050348  1.000000 -0.050279\n",
            "gr  0.002618 -0.081966 -0.050279  1.000000\n"
          ],
          "name": "stdout"
        }
      ]
    },
    {
      "cell_type": "code",
      "metadata": {
        "colab": {
          "base_uri": "https://localhost:8080/"
        },
        "id": "vbQwrlUCZIjx",
        "outputId": "5fe39a7a-6718-4392-8e9e-3a113f57e5a8"
      },
      "source": [
        "# the true model we cannot see\n",
        "model1 = linear_model.LinearRegression()\n",
        "model1.fit(df[['x1', 'x2']], df.y)\n",
        "print('coef', model1.intercept_, model1.coef_)\n",
        "print('r2', model1.score(df[['x1', 'x2']], df.y))\n",
        "print('mape', mape(df.y, model1.predict(df[['x1', 'x2']])))\n",
        "\n"
      ],
      "execution_count": 9,
      "outputs": [
        {
          "output_type": "stream",
          "text": [
            "coef 10.198279557905902 [ 0.49076153 -0.49299726]\n",
            "r2 0.6929933422207775\n",
            "mape 0.05711989213548861\n"
          ],
          "name": "stdout"
        }
      ]
    },
    {
      "cell_type": "code",
      "metadata": {
        "colab": {
          "base_uri": "https://localhost:8080/"
        },
        "id": "Hy35-MshZXMn",
        "outputId": "5dd1c8d9-cdf8-496c-dbf9-4a26b5a5a6e7"
      },
      "source": [
        "# aggregate\n",
        "df_agg = pd.pivot_table(df, index='gr', values=['y', 'x1', 'x2'],\n",
        "\taggfunc=[np.mean, np.std, len]).reset_index()\n",
        "# record all bivariate correlations\n",
        "df_agg2 = df.groupby('gr').apply(lambda x:\n",
        "\tnp.corrcoef(x.y, x.x1)[0, 1]).reset_index()\n",
        "df_agg3 = df.groupby('gr').apply(lambda x:\n",
        "\tnp.corrcoef(x.y, x.x2)[0, 1]).reset_index()\n",
        "df_agg4 = df.groupby('gr').apply(lambda x:\n",
        "\tnp.corrcoef(x.x1, x.x2)[0, 1]).reset_index()\n",
        "df_agg = pd.merge(df_agg, df_agg2, on='gr')\n",
        "df_agg = pd.merge(df_agg, df_agg3, on='gr')\n",
        "df_agg = pd.merge(df_agg, df_agg4, on='gr')\n",
        "df_agg.rename(columns={'0_x': 'c_y_x1', '0_y': 'c_y_x2', 0: 'c_x1_x2'}, inplace=True)\n",
        "print(df_agg)\n",
        "print(list(df_agg))\n"
      ],
      "execution_count": 10,
      "outputs": [
        {
          "output_type": "stream",
          "text": [
            "   gr  (gr, )  (mean, x1)  (mean, x2)  ...  (len, y)    c_y_x1    c_y_x2   c_x1_x2\n",
            "0   0       0   10.206112   12.133294  ...      65.0  0.585624 -0.801932 -0.109793\n",
            "1   1       1   10.244797   11.509837  ...       4.0  0.766124 -0.953576 -0.922497\n",
            "2   2       2   10.185683   12.570055  ...      45.0  0.469898 -0.757229  0.068230\n",
            "3   3       3   10.132624   11.827099  ...      33.0  0.552282 -0.783936 -0.136691\n",
            "4   4       4    9.949929   11.959557  ...      53.0  0.388246 -0.808595  0.018465\n",
            "\n",
            "[5 rows x 14 columns]\n",
            "['gr', ('gr', ''), ('mean', 'x1'), ('mean', 'x2'), ('mean', 'y'), ('std', 'x1'), ('std', 'x2'), ('std', 'y'), ('len', 'x1'), ('len', 'x2'), ('len', 'y'), 'c_y_x1', 'c_y_x2', 'c_x1_x2']\n"
          ],
          "name": "stdout"
        },
        {
          "output_type": "stream",
          "text": [
            "/usr/local/lib/python3.7/dist-packages/pandas/core/reshape/merge.py:643: UserWarning: merging between different levels can give an unintended result (2 levels on the left,1 on the right)\n",
            "  warnings.warn(msg, UserWarning)\n"
          ],
          "name": "stderr"
        }
      ]
    },
    {
      "cell_type": "code",
      "metadata": {
        "colab": {
          "base_uri": "https://localhost:8080/"
        },
        "id": "NPegsJc7Za51",
        "outputId": "3ee918f4-614e-4548-aa1d-719bc70714a0"
      },
      "source": [
        "# deaggregate\n",
        "y_deagg = np.zeros(N)\n",
        "x1_deagg = np.zeros(N)\n",
        "x2_deagg = np.zeros(N)\n",
        "i = 0\n",
        "for idx, row in df_agg.iterrows():\n",
        "  # print(idx, row)\n",
        "  n = int(row[[('len', 'y')]])\n",
        "  idx2 = np.arange(i, i + n)\n",
        "  means = row[[('mean', 'y'), ('mean', 'x1'), ('mean', 'x2')]]\n",
        "  S = row[[('std', 'y'), ('std', 'x1'), ('std', 'x2')]]\n",
        "  C = np.ones((3, 3))\n",
        "  C[0, 1] = row['c_y_x1']\n",
        "  C[0, 2] = row['c_y_x2']\n",
        "  C[1, 2] = row['c_x1_x2']\n",
        "  C = np.maximum(C, C.T) # C is symmetric\n",
        "  cov = corr2cov(C, S)\n",
        "  # print(means, cov, n)\n",
        "  yx = np.random.multivariate_normal(means, cov, size=n)\n",
        "  print(n, yx.shape)\n",
        "  y_deagg[idx2] = yx[:, 0]\n",
        "  x1_deagg[idx2] = yx[:, 1]\n",
        "  x2_deagg[idx2] = yx[:, 2]\n",
        "  i += n\n"
      ],
      "execution_count": 11,
      "outputs": [
        {
          "output_type": "stream",
          "text": [
            "65 (65, 3)\n",
            "4 (4, 3)\n",
            "45 (45, 3)\n",
            "33 (33, 3)\n",
            "53 (53, 3)\n"
          ],
          "name": "stdout"
        }
      ]
    },
    {
      "cell_type": "code",
      "metadata": {
        "colab": {
          "base_uri": "https://localhost:8080/"
        },
        "id": "y1xNK8BMZxgs",
        "outputId": "31d26107-1da5-4138-b5cb-17b0d52aec2f"
      },
      "source": [
        "# model after deaggregation\n",
        "df_deagg = pd.DataFrame({'y': y, 'x1': x1_deagg, 'x2': x2_deagg})\n",
        "model2 = linear_model.LinearRegression()\n",
        "model2.fit(df_deagg[['x1', 'x2']], df_deagg.y)\n",
        "print('coef', model2.intercept_, model1.coef_)\n",
        "# note that R2 will be zero here because of our MVN\n",
        "print('r2', model2.score(df_deagg[['x1', 'x2']], df_deagg.y))\n",
        "print('mape', mape(df_deagg.y, model2.predict(df_deagg[['x1', 'x2']])))\n"
      ],
      "execution_count": 12,
      "outputs": [
        {
          "output_type": "stream",
          "text": [
            "coef 10.24300843272974 [ 0.49076153 -0.49299726]\n",
            "r2 0.0062336945376377795\n",
            "mape 0.10660918172816865\n"
          ],
          "name": "stdout"
        }
      ]
    },
    {
      "cell_type": "markdown",
      "metadata": {
        "id": "FaaiT-pHqzNl"
      },
      "source": [
        "We have successfully got our true beta back despite our compression of 200 rows into 5. The error has worsened but not dramatically. Our R2 has probably lost its purpose here.\n",
        "\n"
      ]
    }
  ]
}